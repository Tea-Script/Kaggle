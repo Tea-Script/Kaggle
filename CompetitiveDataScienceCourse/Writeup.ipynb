{
 "cells": [
  {
   "cell_type": "markdown",
   "metadata": {},
   "source": [
    "# Challenge\n",
    "\n",
    "\n",
    "Our task is to forecast the total amount of products sold in every shop for the test set.\n",
    "Model should handle shops and products changing each month\n",
    "\n",
    "\n",
    " ## Files\n",
    "\n",
    "Training Set: `sales_train.csv`\n",
    "\n",
    "Test set: `test.csv`: Forecast sales for these shops \n",
    "\n",
    "`sample_submission.csv`: the expected format of a submission\n",
    "\n",
    "`items.csv`: supplemental info about items/products\n",
    "\n",
    "`item_categories.csv`: supplemental info about item categories\n",
    "\n",
    "`shops.csv`: supplemental info about shops\n",
    "\n",
    " ## Variables \n",
    "\n",
    "`ID`: represents a shop item within the test set\n",
    "\n",
    "`shop_id`: unique identifier of a shop\n",
    "\n",
    "`item_id`: unique identifier of a product\n",
    "\n",
    "`item_category_id`: unique identifier of an item category\n",
    "\n",
    "`item_cnt_day`: number of products sold in a day\n",
    "\n",
    "`item_price`: current price of item\n",
    "\n",
    "`date`: dd/mm/yyyy\n",
    "\n",
    "`date_Block_num`: January 2013 is 0. Increment every month until October 2015 (33)\n",
    "\n",
    "`item_name`: name of item\n",
    "\n",
    "`shop_name`: name of shop\n",
    "\n",
    "`item_category_name`: name of item category\n",
    "\n",
    "\n",
    "We are going to ignore data such as names of items, shops and item categories, as we will not be using text analysis to look for trends in sales based on name similarity, only on the items, shops and categories themselves. As such, ids are more useful. Additionally, `DATE` will be transformed into more useful data that ignores years.\n",
    "\n",
    "\n",
    "The input to the model should be the variables `ID`, `shop_id`, and `item_id`, therefore, we must train a model that can recognize monthly trends in sales per shop per item to predict next month's data from this month's. \n",
    "\n",
    "Our model also knows that the current `date_block_num` is 34 because we are predicting for just November 2015, so we can use `date`, and `date_block_num` as part of the model input."
   ]
  },
  {
   "cell_type": "markdown",
   "metadata": {},
   "source": [
    "# Visualization\n",
    "\n",
    "It is necessary that we combine `item_cnt_day` into `item_cnt_month` for each item in each shop and graph to see what kind of trends each item in each shop have over the past two years. We can overlay the data for each item with everyshop that carried it that month."
   ]
  },
  {
   "cell_type": "code",
   "execution_count": 16,
   "metadata": {
    "scrolled": false
   },
   "outputs": [
    {
     "name": "stdout",
     "output_type": "stream",
     "text": [
      "   year  month  month_count\n",
      "0     0      0           16\n",
      "1     1      1           10\n",
      "2     2      2            7\n",
      "3     2      3            5\n",
      "4     3      3            5\n",
      "5     3      4            4\n",
      "2.52 ms ± 67.4 µs per loop (mean ± std. dev. of 7 runs, 100 loops each)\n",
      "1.82 ms ± 22.7 µs per loop (mean ± std. dev. of 7 runs, 1000 loops each)\n"
     ]
    }
   ],
   "source": [
    "import matplotlib.pyplot as plt\n",
    "import numpy as np\n",
    "import pandas as pd\n",
    "import random\n",
    "DATA_DIR = \"~/.kaggle/competitions/competitive-data-science-final-project/\"\n",
    "\n",
    "# TODO:\n",
    "# read in csv file, remove headers and date, sort by date_block_num by item_id by store_id with custom sort criteria\n",
    "# aggregate variable item_cnt_day in last column for each store in date_block_num as new row item_cnt_month\n",
    "train_set = pd.read_csv(DATA_DIR + \"sales_train.csv\")  \n",
    "train_set=train_set.iloc[: , 1:]\n",
    "train_set = train_set.sort_values(by=[\"date_block_num\", \"shop_id\",\"item_id\"])\n",
    "#train_set = train_set.agg([\"sum\"])\n",
    "#print(train_set)\n",
    "\n",
    "\n",
    "test = pd.DataFrame({\"year\": [0,0,0,0,1,1,1,2,2,2,2,3,3,3,3], \"month\" : [0,0,0,0,1,1,1,2,2,2,3,3,3,4,4], \"day\" : [0,0,0,1,1,1,2,2,2,2,3,3,4,4,5], \"day_count\" : [7,4,3,2,1,5,4,2,3,2,5,3,2,1,3]})\n",
    "test = test[[\"year\", \"month\", \"day\", \"day_count\"]]\n",
    "#print(test)\n",
    "\n",
    "def agg_multiple(df, labels, aggvar, repl=None):\n",
    "    if(repl is None): repl = aggvar\n",
    "    conds = df.duplicated(labels).tolist() #returns boolean list of false for a unique (year,month) then true until next unique pair\n",
    "    groups = []\n",
    "    start = 0\n",
    "    for i in range(len(conds)): #When false, split previous to new df, aggregate count \n",
    "        bul = conds[i]\n",
    "        if(i == len(conds) - 1): i +=1 #no false marking end of last group, special case\n",
    "        if not bul and i > 0 or bul and i == len(conds): \n",
    "            sample = df.iloc[start:i , :]\n",
    "            start = i\n",
    "            sample = sample.groupby(labels, as_index=False).agg({aggvar:sum}).rename(columns={aggvar : repl})\n",
    "            groups.append(sample)\n",
    "    df = pd.concat(groups).reset_index(drop=True) #combine aggregated dfs into new df\n",
    "    return df\n",
    "test2 = agg_multiple(test, [\"year\", \"month\"], \"day_count\", repl=\"month_count\")\n",
    "print(test2)\n",
    "%timeit test.groupby([\"year\", \"month\"], as_index=False).agg({\"day_count\":sum}).rename(columns={\"day_count\":\"month_count\"})\n",
    "\n",
    "%timeit test.groupby(['year', 'month']).day_count.sum().to_frame('month_count').reset_index()\n",
    "\n",
    "\n",
    "def plotrandom(train_set, items, stores):\n",
    "    for i in range(stores):\n",
    "        store = np.random.choice(train_set[\"shop_id\"])\n",
    "        for j in range(items):\n",
    "            \n",
    "            train_set2 = train_set.loc[train_set['shop_id'] == store]        \n",
    "            item = random.choice(train_set['item_id'])\n",
    "            train_set2 = train_set.loc[train_set['item_id'] == item]\n",
    "\n",
    "\n",
    "            train_set2 = agg_multiple(train_set2, [\"date_block_num\", \"shop_id\", \"item_id\"], \"item_cnt_day\", repl=\"item_cnt_mnth\")\n",
    "\n",
    "            #TODO: Graph month by item_cnt_month for distinct item_id, and draw a seperate line for 5 chosen stores\n",
    "            #####  Repeat for 5 items\n",
    "            #####  Analyze graphs\n",
    "            x = train_set2[\"date_block_num\"]\n",
    "            y = train_set2[\"item_cnt_mnth\"]\n",
    "            plt.plot(x,y)\n",
    "        plt.show()\n",
    "#plotrandom(train_set, 2,2)\n",
    "\n",
    "\n"
   ]
  },
  {
   "cell_type": "code",
   "execution_count": 2,
   "metadata": {},
   "outputs": [],
   "source": [
    "dataset = train_set\n",
    "train_set = agg_multiple(dataset.sample(frac=.01), [\"date_block_num\", \"shop_id\", \"item_id\"], \"item_cnt_day\", repl=\"item_cnt_mnth\")\n",
    "test_set =  agg_multiple(dataset.sample(frac=.005), [\"date_block_num\", \"shop_id\", \"item_id\"], \"item_cnt_day\", repl=\"item_cnt_mnth\")\n"
   ]
  },
  {
   "cell_type": "markdown",
   "metadata": {},
   "source": [
    "There is no obvious pattern in the graphs for any item along stores, or stores along items. We assume the two are not independent."
   ]
  },
  {
   "cell_type": "markdown",
   "metadata": {},
   "source": [
    "# Model\n",
    "\n",
    "For this problem we will be using polynomial regression, random forests, and an SVM, optimizing each, and then comparing the results on the validation set, which will be a small split from the training set. If all perform well, a voting system will be installed and all three will be responsible for determining each prediction for each store and item as a rudimentary ensemble method.\n",
    "\n",
    "\n",
    "The file `tests.csv` contains the set of all training data. We must read that in, and create a prediction for each `ID`. that `ID` should then be marked in the new submission csv before the prediction. `ID` is redundant with `shop_id` and `item_id`, so we will not train with it. "
   ]
  },
  {
   "cell_type": "markdown",
   "metadata": {},
   "source": [
    "### Polynomial Regression\n",
    "Polynomial regression isn't too difficult to model. Using the library scikit learn, we simply need to seperate the expected from the training matrix and run a few functions. We can then make predictions based on new data."
   ]
  },
  {
   "cell_type": "code",
   "execution_count": 3,
   "metadata": {
    "scrolled": true
   },
   "outputs": [
    {
     "name": "stdout",
     "output_type": "stream",
     "text": [
      "0.018241381441624127\n",
      "true accuracy is  0.8417467129913482\n"
     ]
    }
   ],
   "source": [
    "from sklearn.preprocessing import PolynomialFeatures\n",
    "from sklearn.linear_model import LinearRegression\n",
    "\n",
    "\n",
    "\n",
    "X = np.array(train_set[[\"date_block_num\", \"shop_id\",\"item_id\"]])\n",
    "X_test =  np.array(test_set[[\"date_block_num\", \"shop_id\",\"item_id\"]])\n",
    "y = np.array(train_set[[\"item_cnt_mnth\"]])\n",
    "y_test = np.array(test_set[[\"item_cnt_mnth\"]])\n",
    "# PolynomialFeatures (prepreprocessing)\n",
    "poly = PolynomialFeatures(degree=30, include_bias=True)\n",
    "X_ = poly.fit_transform(X)\n",
    "X_test_ = poly.fit_transform(X_test)\n",
    "\n",
    "\n",
    "# Instantiate\n",
    "lg = LinearRegression()\n",
    "\n",
    "# Fit\n",
    "lg.fit(X_, y)\n",
    "\n",
    "# Obtain coefficients\n",
    "lg.coef_\n",
    "\n",
    "preds = np.round(lg.predict(X_test_))\n",
    "print(lg.score(X_test_, y_test))\n",
    "#accuracy function\n",
    "# find absolute difference between predictions and values\n",
    "# add differences together\n",
    "# take 1 - number of differences/total sum\n",
    "\n",
    "\n",
    "#true accuracy function\n",
    "# add up total correct, divide by total\n",
    "true = np.sum((preds == y_test )) / max(y_test.shape) \n",
    "\n",
    "print(\"true accuracy is \", true)\n"
   ]
  },
  {
   "cell_type": "markdown",
   "metadata": {},
   "source": [
    "This model is clearly unsuccessful, with a correlation coefficient of close to 0. It achieves a prediction accuracy of 20% through shear overfitting. The data is clearly not well-mapped by a polynomial. "
   ]
  },
  {
   "cell_type": "markdown",
   "metadata": {},
   "source": [
    "### Random Forest\n",
    "To model the data as a random forest we can again use the sklearn random forest regression in the ensemble library.\n"
   ]
  },
  {
   "cell_type": "code",
   "execution_count": 4,
   "metadata": {},
   "outputs": [
    {
     "name": "stdout",
     "output_type": "stream",
     "text": [
      "-0.16763793559934959\n",
      "true accuracy is  0.831732406839703\n"
     ]
    }
   ],
   "source": [
    "from sklearn.ensemble import RandomForestRegressor\n",
    "\n",
    "#np.nan_to_num(X_test, copy=0)\n",
    "\n",
    "\n",
    "regr = RandomForestRegressor(n_estimators = 50, max_depth=None, random_state=37, oob_score=1)\n",
    "regr.fit(X, y.ravel())\n",
    "preds = np.round(regr.predict(X_test))\n",
    "print(regr.score(X_test, y_test.ravel()))\n",
    "#accuracy function\n",
    "# find absolute difference between predictions and values\n",
    "# add differences together\n",
    "# take 1 - number of differences/total sum\n",
    "pred = np.round(regr.predict(X))\n",
    "\n",
    "#true accuracy function\n",
    "# add up total correct, divide by total\n",
    "true = np.sum((preds == y_test.ravel() )) / len(y_test) \n",
    "\n",
    "print(\"true accuracy is \", true)\n"
   ]
  },
  {
   "cell_type": "markdown",
   "metadata": {},
   "source": [
    "Random Forests are not good for problems where the nodes will encounter features they've never seen, that is why the test set only has 37% success, no matter how we try to retune the parameters. This dataset requires a more flexible model."
   ]
  },
  {
   "cell_type": "markdown",
   "metadata": {},
   "source": [
    "### SVM"
   ]
  },
  {
   "cell_type": "code",
   "execution_count": 8,
   "metadata": {},
   "outputs": [
    {
     "name": "stdout",
     "output_type": "stream",
     "text": [
      "-0.007883917992302258\n",
      "-0.004947985036150904\n",
      "true accuracy is  0.894134477825465\n",
      "Hyper Parameter Tuning\n",
      "0.07116304444788768\n",
      "SVR(C=1000, cache_size=200, coef0=0.0, degree=3, epsilon=0.1, gamma=0.0001,\n",
      "  kernel='rbf', max_iter=-1, shrinking=True, tol=0.001, verbose=False)\n",
      "true accuracy is  0.8910688739014919\n"
     ]
    }
   ],
   "source": [
    "from sklearn.svm import SVR\n",
    "from sklearn.model_selection import GridSearchCV\n",
    "\n",
    "\n",
    "#postval_set = agg_multiple(dataset, [\"date_block_num\", \"shop_id\", \"item_id\"], \"item_cnt_day\", repl=\"item_cnt_mnth\")\n",
    "#X_ = np.array(postval_set[[\"date_block_num\", \"shop_id\",\"item_id\"]])\n",
    "#y_ = np.array(postval_set[[\"item_cnt_mnth\"]])\n",
    "\n",
    "regr = SVR(C=100, epsilon = .1, gamma=.01, kernel=\"sigmoid\")\n",
    "regr.fit(X, y.ravel())\n",
    "preds = np.round(regr.predict(X_test))\n",
    "print(regr.score(X_test, y_test.ravel()))\n",
    "print(regr.score(X, y.ravel()))\n",
    "\n",
    "#true accuracy function\n",
    "# add up total correct, divide by total\n",
    "#true = np.sum((preds == y_test.ravel() )) / len(y_test) \n",
    "\n",
    "print(\"true accuracy is \", true)\n",
    "\n",
    "\n",
    "\n",
    "print(\"Hyper Parameter Tuning\")\n",
    "\n",
    "#parameters = {'kernel':('sigmoid', 'poly'), 'C':[.1, 10, 1000], 'epsilon':[.001, .1], 'gamma' : [.001, 1, 1000], 'degree' : [3, 7]}\n",
    "Par1 = {'kernel' : ['sigmoid', 'rbf'], 'C': [.001, .1, 100, 1000], 'epsilon':[.1], 'gamma': [.0001, .001, .01, .1]}\n",
    "\n",
    "clf1 = GridSearchCV(regr, Par1)\n",
    "clf1.fit(X, y.ravel())\n",
    "\n",
    "print(clf1.score(X_test, y_test.ravel()))\n",
    "print(clf1.best_estimator_)\n",
    "\n",
    "preds = np.round(clf1.predict(X_test))\n",
    "true = np.sum((preds == y_test.ravel() )) / len(y_test) \n",
    "print(\"true accuracy is \", true)\n",
    "\n",
    "#Par2 = {'kernel' : ['poly'], 'C': [.1, 1], 'epsilon':[.1], 'gamma': [.1, 10], 'degree':[5]}\n",
    "\n",
    "#clf2 = GridSearchCV(regr, Par2)\n",
    "#clf2.fit(X, y.ravel())\n",
    "\n",
    "#print(clf2.score(X_test, y_test.ravel()))\n",
    "#print(clf2.best_estimator_)\n",
    "\n",
    "#preds = np.round(clf2.predict(X_test))\n",
    "#true = np.sum((preds == y_test.ravel() )) / len(y_test) \n",
    "#print(\"true accuracy is \", true)\n"
   ]
  },
  {
   "cell_type": "markdown",
   "metadata": {},
   "source": [
    "SVR with a sigmoid kernel is the best so far with 90% accuracy with params C = 1, gamma = .001\n",
    "\n",
    "SVR with rbf kernel 90% accuracy with params C=1000, gamma = .0001\n",
    "\n",
    "SVR with polynomial kernel won't run\n",
    "\n",
    "Based on the results, SVR with a sigmoid kernel will perform the best on the dataset, but given the higher score for rbf, rbf fits the data better. both will be used in the next stages."
   ]
  }
 ],
 "metadata": {
  "kernelspec": {
   "display_name": "Python 3",
   "language": "python",
   "name": "python3"
  },
  "language_info": {
   "codemirror_mode": {
    "name": "ipython",
    "version": 3
   },
   "file_extension": ".py",
   "mimetype": "text/x-python",
   "name": "python",
   "nbconvert_exporter": "python",
   "pygments_lexer": "ipython3",
   "version": "3.6.6"
  }
 },
 "nbformat": 4,
 "nbformat_minor": 2
}
